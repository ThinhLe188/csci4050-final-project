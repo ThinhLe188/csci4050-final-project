{
 "cells": [
  {
   "cell_type": "code",
   "execution_count": 2,
   "metadata": {},
   "outputs": [
    {
     "data": {
      "text/html": [
       "<div>\n",
       "<style scoped>\n",
       "    .dataframe tbody tr th:only-of-type {\n",
       "        vertical-align: middle;\n",
       "    }\n",
       "\n",
       "    .dataframe tbody tr th {\n",
       "        vertical-align: top;\n",
       "    }\n",
       "\n",
       "    .dataframe thead th {\n",
       "        text-align: right;\n",
       "    }\n",
       "</style>\n",
       "<table border=\"1\" class=\"dataframe\">\n",
       "  <thead>\n",
       "    <tr style=\"text-align: right;\">\n",
       "      <th></th>\n",
       "      <th>sepal_length</th>\n",
       "      <th>sepal_width</th>\n",
       "      <th>petal_length</th>\n",
       "      <th>petal_width</th>\n",
       "      <th>species</th>\n",
       "      <th>target</th>\n",
       "    </tr>\n",
       "  </thead>\n",
       "  <tbody>\n",
       "    <tr>\n",
       "      <th>0</th>\n",
       "      <td>5.1</td>\n",
       "      <td>3.5</td>\n",
       "      <td>1.4</td>\n",
       "      <td>0.2</td>\n",
       "      <td>Iris-setosa</td>\n",
       "      <td>0</td>\n",
       "    </tr>\n",
       "    <tr>\n",
       "      <th>1</th>\n",
       "      <td>4.9</td>\n",
       "      <td>3.0</td>\n",
       "      <td>1.4</td>\n",
       "      <td>0.2</td>\n",
       "      <td>Iris-setosa</td>\n",
       "      <td>0</td>\n",
       "    </tr>\n",
       "    <tr>\n",
       "      <th>2</th>\n",
       "      <td>4.7</td>\n",
       "      <td>3.2</td>\n",
       "      <td>1.3</td>\n",
       "      <td>0.2</td>\n",
       "      <td>Iris-setosa</td>\n",
       "      <td>0</td>\n",
       "    </tr>\n",
       "    <tr>\n",
       "      <th>3</th>\n",
       "      <td>4.6</td>\n",
       "      <td>3.1</td>\n",
       "      <td>1.5</td>\n",
       "      <td>0.2</td>\n",
       "      <td>Iris-setosa</td>\n",
       "      <td>0</td>\n",
       "    </tr>\n",
       "    <tr>\n",
       "      <th>4</th>\n",
       "      <td>5.0</td>\n",
       "      <td>3.6</td>\n",
       "      <td>1.4</td>\n",
       "      <td>0.2</td>\n",
       "      <td>Iris-setosa</td>\n",
       "      <td>0</td>\n",
       "    </tr>\n",
       "  </tbody>\n",
       "</table>\n",
       "</div>"
      ],
      "text/plain": [
       "   sepal_length  sepal_width  petal_length  petal_width      species  target\n",
       "0           5.1          3.5           1.4          0.2  Iris-setosa       0\n",
       "1           4.9          3.0           1.4          0.2  Iris-setosa       0\n",
       "2           4.7          3.2           1.3          0.2  Iris-setosa       0\n",
       "3           4.6          3.1           1.5          0.2  Iris-setosa       0\n",
       "4           5.0          3.6           1.4          0.2  Iris-setosa       0"
      ]
     },
     "execution_count": 2,
     "metadata": {},
     "output_type": "execute_result"
    }
   ],
   "source": [
    "import pandas as pd\n",
    "import warnings\n",
    "warnings.filterwarnings('ignore')\n",
    "\n",
    "df = pd.read_csv('../datasets/IRIS.csv')\n",
    "\n",
    "df['target'] = df['species'].replace({\n",
    "    'Iris-setosa': 0,\n",
    "    'Iris-versicolor': 1,\n",
    "    'Iris-virginica': 2\n",
    "})\n",
    "\n",
    "df.head()"
   ]
  },
  {
   "cell_type": "code",
   "execution_count": 3,
   "metadata": {},
   "outputs": [],
   "source": [
    "import torch\n",
    "\n",
    "inputs = torch.tensor(\n",
    "    df[['sepal_length', 'sepal_width', 'petal_length', 'petal_width']].values,\n",
    "    dtype=torch.float32\n",
    ")\n",
    "\n",
    "targets = torch.tensor(\n",
    "    df['target'].values,\n",
    "    dtype=torch.int64\n",
    ")"
   ]
  },
  {
   "cell_type": "code",
   "execution_count": 4,
   "metadata": {},
   "outputs": [],
   "source": [
    "from torch.utils.data import TensorDataset, DataLoader\n",
    "\n",
    "dataset = TensorDataset(inputs, targets)\n",
    "dataloader = DataLoader(dataset, shuffle=True, batch_size=4)"
   ]
  },
  {
   "cell_type": "code",
   "execution_count": 5,
   "metadata": {},
   "outputs": [
    {
     "data": {
      "text/plain": [
       "[tensor([[6.7000, 3.1000, 4.4000, 1.4000],\n",
       "         [4.8000, 3.1000, 1.6000, 0.2000],\n",
       "         [6.7000, 2.5000, 5.8000, 1.8000],\n",
       "         [4.5000, 2.3000, 1.3000, 0.3000]]),\n",
       " tensor([1, 0, 2, 0])]"
      ]
     },
     "execution_count": 5,
     "metadata": {},
     "output_type": "execute_result"
    }
   ],
   "source": [
    "torch.manual_seed(4050)\n",
    "batch0 = next(iter(dataloader))\n",
    "batch0"
   ]
  },
  {
   "cell_type": "code",
   "execution_count": 6,
   "metadata": {},
   "outputs": [],
   "source": [
    "import torchmetrics\n",
    "\n",
    "def evaluate(model):\n",
    "    accuracy = torchmetrics.classification.Accuracy(task='multiclass', num_classes=3)\n",
    "    x, y_exp = dataset[:]\n",
    "    y = model(x)\n",
    "    return accuracy(y, y_exp)"
   ]
  },
  {
   "cell_type": "code",
   "execution_count": 7,
   "metadata": {},
   "outputs": [],
   "source": [
    "import lightning as L   # torch lightning\n",
    "import torchinfo        # torch info\n",
    "from torch import nn    # neural network layers\n",
    "from torch import optim # optimizers"
   ]
  },
  {
   "cell_type": "code",
   "execution_count": 8,
   "metadata": {},
   "outputs": [],
   "source": [
    "class LinearClassifier(L.LightningModule):\n",
    "    def __init__(self):\n",
    "        super().__init__()\n",
    "        \n",
    "        # define the `nn` as the neural network. In this case, it\n",
    "        # should be a simple nn.Linear(...) layer.\n",
    "        self.nn = nn.Linear(4, 3)\n",
    "        \n",
    "        # define the loss function to be used.\n",
    "        # It should be nn.CrossEntropyLoss(...)\n",
    "        self.loss_fn = nn.CrossEntropyLoss()\n",
    "        \n",
    "    def forward(self, batch):\n",
    "        # return the output which should be\n",
    "        # a 3D vector corresponding to the logits of the\n",
    "        # three class predictions.\n",
    "        return self.nn(batch)\n",
    "    \n",
    "    def training_step(self, batch):\n",
    "        # - The batch is a tuple (x, targets), where\n",
    "        #   x is the input vectors, and targets the integer labels.\n",
    "        # - return the loss value for the current batch.\n",
    "        # - the loss is computed using forward(...) and loss_fn(...)\n",
    "        x, targets = batch\n",
    "        logits = self.forward(x)\n",
    "        loss = self.loss_fn(logits, targets)\n",
    "        return loss\n",
    "    \n",
    "    def configure_optimizers(self):\n",
    "        # returns an optimizer that is configured to\n",
    "        # optimize `self.parameters()`.\n",
    "        # Use the optim.Adam(...)\n",
    "        return optim.Adam(self.parameters(), lr=0.01)"
   ]
  },
  {
   "cell_type": "code",
   "execution_count": 9,
   "metadata": {},
   "outputs": [],
   "source": [
    "class MLP(LinearClassifier):\n",
    "    def __init__(self, hidden:int):\n",
    "        super().__init__()\n",
    "        self.nn = nn.Sequential(\n",
    "            # linear layer\n",
    "            nn.Linear(4, hidden),\n",
    "            # ReLU\n",
    "            nn.ReLU(),\n",
    "            # output linear layer\n",
    "            nn.Linear(hidden, 3)\n",
    "        )"
   ]
  },
  {
   "cell_type": "code",
   "execution_count": 10,
   "metadata": {},
   "outputs": [
    {
     "data": {
      "text/plain": [
       "=================================================================\n",
       "Layer (type:depth-idx)                   Param #\n",
       "=================================================================\n",
       "MLP                                      --\n",
       "├─Sequential: 1-1                        --\n",
       "│    └─Linear: 2-1                       50\n",
       "│    └─ReLU: 2-2                         --\n",
       "│    └─Linear: 2-3                       33\n",
       "├─CrossEntropyLoss: 1-2                  --\n",
       "=================================================================\n",
       "Total params: 83\n",
       "Trainable params: 83\n",
       "Non-trainable params: 0\n",
       "================================================================="
      ]
     },
     "execution_count": 10,
     "metadata": {},
     "output_type": "execute_result"
    }
   ],
   "source": [
    "torchinfo.summary(MLP(10))"
   ]
  },
  {
   "cell_type": "code",
   "execution_count": 11,
   "metadata": {},
   "outputs": [
    {
     "name": "stderr",
     "output_type": "stream",
     "text": [
      "GPU available: False, used: False\n",
      "TPU available: False, using: 0 TPU cores\n",
      "HPU available: False, using: 0 HPUs\n",
      "\n",
      "  | Name    | Type             | Params | Mode \n",
      "-----------------------------------------------------\n",
      "0 | nn      | Sequential       | 83     | train\n",
      "1 | loss_fn | CrossEntropyLoss | 0      | train\n",
      "-----------------------------------------------------\n",
      "83        Trainable params\n",
      "0         Non-trainable params\n",
      "83        Total params\n",
      "0.000     Total estimated model params size (MB)\n",
      "5         Modules in train mode\n",
      "0         Modules in eval mode\n"
     ]
    },
    {
     "name": "stdout",
     "output_type": "stream",
     "text": [
      "Epoch 9: 100%|██████████| 38/38 [00:00<00:00, 413.05it/s, v_num=2]"
     ]
    },
    {
     "name": "stderr",
     "output_type": "stream",
     "text": [
      "`Trainer.fit` stopped: `max_epochs=10` reached.\n"
     ]
    },
    {
     "name": "stdout",
     "output_type": "stream",
     "text": [
      "Epoch 9: 100%|██████████| 38/38 [00:00<00:00, 387.75it/s, v_num=2]\n"
     ]
    }
   ],
   "source": [
    "torch.manual_seed(0)\n",
    "model = MLP(10)\n",
    "trainer = L.Trainer(max_epochs=10)\n",
    "\n",
    "trainer.fit(model, train_dataloaders=dataloader)"
   ]
  },
  {
   "cell_type": "code",
   "execution_count": 12,
   "metadata": {},
   "outputs": [
    {
     "data": {
      "text/plain": [
       "tensor(0.9533)"
      ]
     },
     "execution_count": 12,
     "metadata": {},
     "output_type": "execute_result"
    }
   ],
   "source": [
    "evaluate(model)"
   ]
  },
  {
   "cell_type": "code",
   "execution_count": 13,
   "metadata": {},
   "outputs": [
    {
     "data": {
      "text/plain": [
       "MLP(\n",
       "  (nn): Sequential(\n",
       "    (0): Linear(in_features=4, out_features=10, bias=True)\n",
       "    (1): ReLU()\n",
       "    (2): Linear(in_features=10, out_features=3, bias=True)\n",
       "  )\n",
       "  (loss_fn): CrossEntropyLoss()\n",
       ")"
      ]
     },
     "execution_count": 13,
     "metadata": {},
     "output_type": "execute_result"
    }
   ],
   "source": [
    "torch.save(model.state_dict(), \"my_model.pth\")\n",
    "model.eval()"
   ]
  },
  {
   "cell_type": "code",
   "execution_count": 14,
   "metadata": {},
   "outputs": [],
   "source": [
    "import onnx\n",
    "\n",
    "torch.onnx.export(\n",
    "    model,\n",
    "    torch.randn(1, 4),\n",
    "    \"my_model.onnx\",\n",
    "    export_params=True,\n",
    "    opset_version=11,\n",
    "    input_names=[\"input\"],\n",
    "    output_names=[\"output\"],\n",
    "    dynamic_axes={\"input\": {0: \"batch_size\"}, \"output\": {0: \"batch_size\"}}\n",
    ")"
   ]
  }
 ],
 "metadata": {
  "kernelspec": {
   "display_name": "data-sci",
   "language": "python",
   "name": "python3"
  },
  "language_info": {
   "codemirror_mode": {
    "name": "ipython",
    "version": 3
   },
   "file_extension": ".py",
   "mimetype": "text/x-python",
   "name": "python",
   "nbconvert_exporter": "python",
   "pygments_lexer": "ipython3",
   "version": "3.10.7"
  }
 },
 "nbformat": 4,
 "nbformat_minor": 2
}
